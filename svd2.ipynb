{
  "nbformat": 4,
  "nbformat_minor": 0,
  "metadata": {
    "colab": {
      "name": "svd2.ipynb",
      "provenance": [],
      "collapsed_sections": []
    },
    "kernelspec": {
      "name": "python3",
      "display_name": "Python 3"
    },
    "accelerator": "GPU"
  },
  "cells": [
    {
      "cell_type": "code",
      "metadata": {
        "id": "HQFRINe_VOcu",
        "colab_type": "code",
        "colab": {}
      },
      "source": [
        "import jax\n",
        "import jax.numpy as np\n",
        "\n",
        "@jax.jit\n",
        "def svd2(A):\n",
        "  # Adapted from https://lucidar.me/en/mathematics/singular-value-decomposition-of-a-2x2-matrix/\n",
        "  shape = A.shape\n",
        "  A = np.reshape(A, [np.prod(shape[:-2])] + list(shape[-2:]))\n",
        "  AAT = np.einsum('nij,nkj->nik', A, A) \n",
        "  phi = 0.5 * np.arctan2(AAT[:,0,1] + AAT[:,1,0], AAT[:,0,0] - AAT[:,1,1])\n",
        "  cos_phi = np.cos(phi)\n",
        "  sin_phi = np.sin(phi)\n",
        "  U = np.reshape(np.stack([cos_phi, -sin_phi, sin_phi, cos_phi], -1), [-1, 2, 2])\n",
        "\n",
        "  AAT_sum= AAT[:,0,0] + AAT[:,1,1]\n",
        "  AAT_diff= np.sqrt((AAT[:,0,0]-AAT[:,1,1])**2 + 4*AAT[:,0,1]*AAT[:,1,0])\n",
        "  s = np.stack([np.sqrt(0.5 * (AAT_sum+AAT_diff)), np.sqrt(0.5 * (AAT_sum-AAT_diff))], -1)\n",
        "\n",
        "  ATA = np.einsum('nji,njk->nik', A, A) \n",
        "  theta = 0.5 * np.arctan2(ATA[:,0,1] + ATA[:,1,0], ATA[:,0,0] - ATA[:,1,1])\n",
        "  cos_theta = np.cos(theta)\n",
        "  sin_theta = np.sin(theta)\n",
        "  W = np.reshape(np.stack([cos_theta, -sin_theta, sin_theta, cos_theta], -1), [-1, 2, 2])\n",
        "\n",
        "  D00 = np.sign(\n",
        "      (U[:,0,0] * A[:,0,0] + U[:,1,0] * A[:,1,0]) * W[:,0,0] +\n",
        "      (U[:,0,0] * A[:,0,1] + U[:,1,0] * A[:,1,1]) * W[:,1,0])\n",
        "  D11 = np.sign(\n",
        "      (U[:,0,1] * A[:,0,0] + U[:,1,1] * A[:,1,0]) * W[:,0,1] +\n",
        "      (U[:,0,1] * A[:,0,1] + U[:,1,1] * A[:,1,1]) * W[:,1,1])\n",
        "  VT = np.reshape(np.stack([\n",
        "    W[:,0,0] * D00, W[:,1,0] * D00,\n",
        "    W[:,0,1] * D11, W[:,1,1] * D11], -1), [-1, 2, 2])\n",
        "\n",
        "  U = np.reshape(U, shape)\n",
        "  s = np.reshape(s, shape[:-1])\n",
        "  VT = np.reshape(VT, shape)\n",
        "  return U, s, VT"
      ],
      "execution_count": 9,
      "outputs": []
    },
    {
      "cell_type": "code",
      "metadata": {
        "id": "FF71K3JecwWS",
        "colab_type": "code",
        "colab": {
          "base_uri": "https://localhost:8080/",
          "height": 71
        },
        "outputId": "8fb115e9-3802-4122-9f23-61e023014537"
      },
      "source": [
        "# Unit Tests.\n",
        "\n",
        "A = jax.random.normal(jax.random.PRNGKey(0), (100, 2, 2))\n",
        "\n",
        "U, s, VT = svd2(A)\n",
        "U_, s_, VT_ =  np.linalg.svd(A)\n",
        "\n",
        "batch_matmul = lambda X, Y: np.einsum('nij,njk->nik', X, Y) \n",
        "\n",
        "def batch_diag(x):\n",
        "  import numpy as onp\n",
        "  D = onp.zeros([np.prod(x.shape[:-1])] + [x.shape[-1]]*2)\n",
        "  for d in range(x.shape[-1]):\n",
        "    D[...,d,d] = x[...,d]\n",
        "  return np.array(D)\n",
        "\n",
        "threshold = 1e-5\n",
        "assert(np.all(np.abs(batch_matmul(U, batch_matmul(batch_diag(s), VT)) - A) < threshold))\n",
        "\n",
        "U_err = np.minimum(np.min(np.abs(U_ - U), -2), np.min(np.abs(U_ + U), -2))\n",
        "assert(np.all(np.abs(U_err) < threshold))\n",
        "\n",
        "VT_err = np.minimum(np.min(np.abs(VT_ - VT), -2), np.min(np.abs(VT_ + VT), -2))\n",
        "assert(np.all(np.abs(VT_err) < threshold))\n",
        "\n",
        "assert(np.all(np.abs(s - s_) < threshold))"
      ],
      "execution_count": 10,
      "outputs": [
        {
          "output_type": "stream",
          "text": [
            "/usr/local/lib/python3.6/dist-packages/jax/numpy/lax_numpy.py:1621: FutureWarning: jax.numpy reductions won't accept lists and tuples in future versions, only scalars and ndarrays\n",
            "  warnings.warn(msg, category=FutureWarning)\n"
          ],
          "name": "stderr"
        }
      ]
    },
    {
      "cell_type": "code",
      "metadata": {
        "id": "9o5AwU8zX6lE",
        "colab_type": "code",
        "colab": {
          "base_uri": "https://localhost:8080/",
          "height": 51
        },
        "outputId": "4cce0d74-79b1-4cc3-984b-b9753c3f7f71"
      },
      "source": [
        "# Profiling\n",
        "A = jax.random.normal(jax.random.PRNGKey(0), (100000, 2, 2))\n",
        "%timeit [x.block_until_ready() for x in np.linalg.svd(A)]\n",
        "%timeit [x.block_until_ready() for x in svd2(A)]"
      ],
      "execution_count": 13,
      "outputs": [
        {
          "output_type": "stream",
          "text": [
            "10 loops, best of 3: 134 ms per loop\n",
            "100 loops, best of 3: 2.62 ms per loop\n"
          ],
          "name": "stdout"
        }
      ]
    }
  ]
}